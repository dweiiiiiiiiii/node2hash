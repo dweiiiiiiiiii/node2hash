{
 "cells": [
  {
   "cell_type": "code",
   "execution_count": 1,
   "metadata": {},
   "outputs": [],
   "source": [
    "import os\n",
    "from os.path import join\n",
    "import numpy as np\n",
    "import pandas as pd\n",
    "from scipy import sparse"
   ]
  },
  {
   "cell_type": "code",
   "execution_count": 2,
   "metadata": {},
   "outputs": [],
   "source": [
    "dataset_name = 'rcv1'\n",
    "data_dir = os.path.join('../VDSH/dataset/', dataset_name)\n",
    "fn = 'train.NN.pkl'\n",
    "train_df = pd.read_pickle(os.path.join(data_dir, fn))\n",
    "\n",
    "num_trains = len(train_df)\n",
    "#bows_mat = sparse.vstack(list(train_df.bow))"
   ]
  },
  {
   "cell_type": "code",
   "execution_count": 3,
   "metadata": {},
   "outputs": [],
   "source": [
    "if dataset_name in ['tmc', 'rcv1']:\n",
    "    label_mat = sparse.vstack(list(train_df.label))\n",
    "    num_labels = label_mat.shape[1]\n",
    "else:\n",
    "    # convert the label to a sparse matrix\n",
    "    labels = list(train_df.label)\n",
    "    num_labels = (np.max(labels) - np.min(labels)) + 1\n",
    "    one_hot_mat = np.eye(num_labels, dtype=int)\n",
    "    label_mat = sparse.csr_matrix(one_hot_mat[labels])"
   ]
  },
  {
   "cell_type": "code",
   "execution_count": 4,
   "metadata": {},
   "outputs": [],
   "source": [
    "docid2index = {docid: index for index, docid in enumerate(list(train_df.index))}\n",
    "index2docid = {index: docid for index, docid in enumerate(list(train_df.index))}"
   ]
  },
  {
   "cell_type": "code",
   "execution_count": 5,
   "metadata": {},
   "outputs": [],
   "source": [
    "data = {'doc_id': list(train_df.index),\n",
    "        'bow': list(train_df.bow),\n",
    "        'label': [arr for arr in label_mat],\n",
    "        'neighbors': list(train_df.top_nn)}\n",
    "\n",
    "new_df = pd.DataFrame.from_dict(data)\n",
    "new_df.set_index('doc_id', inplace=True)\n",
    "\n",
    "new_df.to_pickle('dataset/clean/{}/{}.train.pkl'.format(dataset_name, dataset_name))"
   ]
  },
  {
   "cell_type": "code",
   "execution_count": 6,
   "metadata": {},
   "outputs": [],
   "source": [
    "fn = 'test.NN.pkl'\n",
    "test_df = pd.read_pickle(os.path.join(data_dir, fn))\n",
    "\n",
    "num_tests = len(test_df)\n",
    "#test_bows_mat = sparse.vstack(list(test_df.bow))"
   ]
  },
  {
   "cell_type": "code",
   "execution_count": 7,
   "metadata": {},
   "outputs": [],
   "source": [
    "if dataset_name in ['tmc', 'rcv1']:\n",
    "    label_mat = sparse.vstack(list(test_df.label))\n",
    "    num_labels = label_mat.shape[1]\n",
    "else:\n",
    "    # convert the label to a sparse matrix\n",
    "    labels = list(test_df.label)\n",
    "    label_mat = sparse.csr_matrix(one_hot_mat[labels])"
   ]
  },
  {
   "cell_type": "code",
   "execution_count": 8,
   "metadata": {},
   "outputs": [],
   "source": [
    "data = {'doc_id': list(test_df.index),\n",
    "        'bow': list(test_df.bow),\n",
    "        'label': [arr for arr in label_mat],\n",
    "        'neighbors': list(test_df.top_nn)}\n",
    "\n",
    "new_df = pd.DataFrame.from_dict(data)\n",
    "new_df.set_index('doc_id', inplace=True)\n",
    "\n",
    "new_df.to_pickle('dataset/clean/{}/{}.test.pkl'.format(dataset_name, dataset_name))"
   ]
  }
 ],
 "metadata": {
  "kernelspec": {
   "display_name": "Research2018",
   "language": "python",
   "name": "research"
  },
  "language_info": {
   "codemirror_mode": {
    "name": "ipython",
    "version": 3
   },
   "file_extension": ".py",
   "mimetype": "text/x-python",
   "name": "python",
   "nbconvert_exporter": "python",
   "pygments_lexer": "ipython3",
   "version": "3.6.3"
  }
 },
 "nbformat": 4,
 "nbformat_minor": 2
}
