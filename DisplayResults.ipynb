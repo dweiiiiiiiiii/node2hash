{
 "cells": [
  {
   "cell_type": "code",
   "execution_count": 1,
   "metadata": {},
   "outputs": [],
   "source": [
    "import os\n",
    "import pandas as pd\n",
    "import numpy as np\n",
    "\n",
    "model = 'EdgeReg'\n",
    "logs_fn = os.path.join('logs', model, 'result.txt')\n",
    "\n",
    "df = pd.read_csv(logs_fn, header=None, names=['dataset', 'numbits', 'walk_type', 'walk_step', 'best_epochs', 'prec_at_100'])"
   ]
  },
  {
   "cell_type": "code",
   "execution_count": 2,
   "metadata": {},
   "outputs": [
    {
     "name": "stdout",
     "output_type": "stream",
     "text": [
      "citeseer\n",
      "0.3611\n",
      "cora\n",
      "0.4607\n",
      "dblp\n",
      "0.7201\n",
      "reddit\n",
      "0.0563 & 0.1309\n"
     ]
    }
   ],
   "source": [
    "grouped = df.groupby(['dataset'])\n",
    "\n",
    "for name, group in grouped:\n",
    "    print(name)\n",
    "    g = group.sort_values(by=['numbits'])\n",
    "    result = ' & '.join(['{:.4f}'.format(p) for p in list(g.prec_at_100)])\n",
    "    print(result)"
   ]
  },
  {
   "cell_type": "code",
   "execution_count": 3,
   "metadata": {},
   "outputs": [
    {
     "data": {
      "text/html": [
       "<div>\n",
       "<style scoped>\n",
       "    .dataframe tbody tr th:only-of-type {\n",
       "        vertical-align: middle;\n",
       "    }\n",
       "\n",
       "    .dataframe tbody tr th {\n",
       "        vertical-align: top;\n",
       "    }\n",
       "\n",
       "    .dataframe thead th {\n",
       "        text-align: right;\n",
       "    }\n",
       "</style>\n",
       "<table border=\"1\" class=\"dataframe\">\n",
       "  <thead>\n",
       "    <tr style=\"text-align: right;\">\n",
       "      <th></th>\n",
       "      <th>dataset</th>\n",
       "      <th>numbits</th>\n",
       "      <th>walk_type</th>\n",
       "      <th>walk_step</th>\n",
       "      <th>best_epochs</th>\n",
       "      <th>prec_at_100</th>\n",
       "    </tr>\n",
       "  </thead>\n",
       "  <tbody>\n",
       "    <tr>\n",
       "      <th>0</th>\n",
       "      <td>cora</td>\n",
       "      <td>32</td>\n",
       "      <td>BFS</td>\n",
       "      <td>20</td>\n",
       "      <td>11</td>\n",
       "      <td>0.460739</td>\n",
       "    </tr>\n",
       "    <tr>\n",
       "      <th>1</th>\n",
       "      <td>citeseer</td>\n",
       "      <td>32</td>\n",
       "      <td>Immedidate</td>\n",
       "      <td>1</td>\n",
       "      <td>18</td>\n",
       "      <td>0.361090</td>\n",
       "    </tr>\n",
       "    <tr>\n",
       "      <th>2</th>\n",
       "      <td>reddit</td>\n",
       "      <td>32</td>\n",
       "      <td>BFS</td>\n",
       "      <td>20</td>\n",
       "      <td>2</td>\n",
       "      <td>0.056308</td>\n",
       "    </tr>\n",
       "    <tr>\n",
       "      <th>3</th>\n",
       "      <td>dblp</td>\n",
       "      <td>32</td>\n",
       "      <td>BFS</td>\n",
       "      <td>20</td>\n",
       "      <td>3</td>\n",
       "      <td>0.720086</td>\n",
       "    </tr>\n",
       "    <tr>\n",
       "      <th>4</th>\n",
       "      <td>reddit</td>\n",
       "      <td>32</td>\n",
       "      <td>Immedidate</td>\n",
       "      <td>1</td>\n",
       "      <td>4</td>\n",
       "      <td>0.130863</td>\n",
       "    </tr>\n",
       "  </tbody>\n",
       "</table>\n",
       "</div>"
      ],
      "text/plain": [
       "    dataset  numbits   walk_type  walk_step  best_epochs  prec_at_100\n",
       "0      cora       32         BFS         20           11     0.460739\n",
       "1  citeseer       32  Immedidate          1           18     0.361090\n",
       "2    reddit       32         BFS         20            2     0.056308\n",
       "3      dblp       32         BFS         20            3     0.720086\n",
       "4    reddit       32  Immedidate          1            4     0.130863"
      ]
     },
     "execution_count": 3,
     "metadata": {},
     "output_type": "execute_result"
    }
   ],
   "source": [
    "df"
   ]
  }
 ],
 "metadata": {
  "kernelspec": {
   "display_name": "Research2018",
   "language": "python",
   "name": "research"
  },
  "language_info": {
   "codemirror_mode": {
    "name": "ipython",
    "version": 3
   },
   "file_extension": ".py",
   "mimetype": "text/x-python",
   "name": "python",
   "nbconvert_exporter": "python",
   "pygments_lexer": "ipython3",
   "version": "3.6.3"
  }
 },
 "nbformat": 4,
 "nbformat_minor": 2
}
