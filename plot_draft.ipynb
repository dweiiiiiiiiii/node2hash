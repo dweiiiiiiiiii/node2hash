{
 "cells": [
  {
   "cell_type": "code",
   "execution_count": null,
   "metadata": {},
   "outputs": [],
   "source": [
    "%matplotlib inline \n",
    "import matplotlib.pyplot as plt\n",
    "import numpy as np\n",
    "import pandas as pd"
   ]
  },
  {
   "cell_type": "code",
   "execution_count": null,
   "metadata": {},
   "outputs": [],
   "source": [
    "def plot_now(title, ax, T, prec, ylim_min, ylim_max):\n",
    "    ax.plot(T, prec[0], 'o-', label='8 bits')\n",
    "    ax.plot(T, prec[1], 's-', label='16 bits')\n",
    "    ax.plot(T, prec[2], 'p-', label='32 bits')\n",
    "    ax.plot(T, prec[3], 'h-', label='64 bits')\n",
    "    ax.plot(T, prec[4], 'd-', label='128 bits')\n",
    "    ax.set_xticks(T)\n",
    "    ax.set_xlabel('Number of samples')\n",
    "    ax.set_ylim(ylim_min, ylim_max)\n",
    "    ax.set_ylabel('Prec@100')\n",
    "    ax.title.set_text(title)\n",
    "    ax.grid()"
   ]
  },
  {
   "cell_type": "code",
   "execution_count": null,
   "metadata": {},
   "outputs": [],
   "source": [
    "fig = plt.figure(figsize=(8, 6), dpi=80)\n",
    "\n",
    "# cora\n",
    "T = [1, 5, 10, 15, 20]\n",
    "prec = [[0.3946, 0.4498, 0.4740, 0.5205, 0.5484],\n",
    "        [0.4132, 0.4116, 0.4505, 0.5033, 0.5278],\n",
    "        [0.3500, 0.4185, 0.4734, 0.5051, 0.5286],\n",
    "        [0.4109, 0.4156, 0.4786, 0.5268, 0.5401],\n",
    "        [0.3685, 0.4248, 0.4641, 0.5232, 0.5370]]\n",
    "T = np.array(T)\n",
    "prec = np.array(prec).T\n",
    "\n",
    "ax1 = plt.subplot(231)\n",
    "#plot_now(\"Cora\", ax1, T, prec, 0.0, 0.6)\n",
    "plot_now(\"Cora\", ax1, T, prec, 0.0, 1.0)\n",
    "\n",
    "# citeseer\n",
    "prec = [[0.3643, 00.4046, 0.4390, 0.5023, 0.5439],\n",
    "        [0.3443, 0.4239, 0.4415, 0.4867, 0.5636],\n",
    "        [0.3587, 0.3928, 0.4193, 0.5047, 0.5340],\n",
    "        [0.3702, 0.4082, 0.4293, 0.4817, 0.5582],\n",
    "        [0.3783, 0.4130, 0.4323, 0.4993, 0.5478]]\n",
    "prec = np.array(prec).T\n",
    "\n",
    "ax1 = plt.subplot(232)\n",
    "#plot_now(\"Citeseer\", ax1, T, prec, 0.2, 0.7)\n",
    "plot_now(\"Citeseer\", ax1, T, prec, 0.0, 1.0)\n",
    "\n",
    "# pubmed\n",
    "df = pd.read_csv('logs/T_experiment.pubmed.txt', sep='\\t', header=None, \n",
    "                 names=['dataset', 'bits', 'samples', 'Prec'])\n",
    "prec = [list(df[df.samples==s].Prec) for s in T]\n",
    "prec = np.array(prec).T\n",
    "\n",
    "ax1 = plt.subplot(233)\n",
    "#plot_now(\"Pubmed\", ax1, T, prec, 0.6, 0.8)\n",
    "plot_now(\"Pubmed\", ax1, T, prec, 0.0, 1.0)\n",
    "\n",
    "# dblp\n",
    "df = pd.read_csv('logs/T_experiment.dblp.txt', sep='\\t', header=None, \n",
    "                 names=['dataset', 'bits', 'samples', 'Prec'])\n",
    "prec = [list(df[df.samples==s].Prec) for s in T]\n",
    "prec = np.array(prec).T\n",
    "\n",
    "ax1 = plt.subplot(234)\n",
    "#plot_now(\"Dblp\", ax1, T, prec, 0.6, 0.8)\n",
    "plot_now(\"Dblp\", ax1, T, prec, 0.0, 1.0)\n",
    "ax1.legend()\n",
    "\n",
    "# ng20\n",
    "df = pd.read_csv('logs/T_experiment.ng20.txt', sep='\\t', header=None, \n",
    "                 names=['dataset', 'bits', 'samples', 'Prec'])\n",
    "prec = [list(df[df.samples==s].Prec) for s in T]\n",
    "prec = np.array(prec).T\n",
    "\n",
    "ax1 = plt.subplot(235)\n",
    "#plot_now(\"ng20\", ax1, T, prec, 0.3, 0.55)\n",
    "plot_now(\"ng20\", ax1, T, prec, 0.0, 1.0)\n",
    "\n",
    "# agnews\n",
    "df = pd.read_csv('logs/T_experiment.agnews.txt', sep='\\t', header=None, \n",
    "                 names=['dataset', 'bits', 'samples', 'Prec'])\n",
    "prec = [list(df[df.samples==s].Prec) for s in T]\n",
    "prec = np.array(prec).T\n",
    "\n",
    "ax1 = plt.subplot(236)\n",
    "plot_now(\"agnews\", ax1, T, prec, 0.0, 1.0)\n",
    "\n",
    "plt.tight_layout()\n"
   ]
  },
  {
   "cell_type": "code",
   "execution_count": null,
   "metadata": {},
   "outputs": [],
   "source": [
    "fig.savefig(\"T_experiment.pdf\", bbox_inches='tight')"
   ]
  }
 ],
 "metadata": {
  "kernelspec": {
   "display_name": "Research2018",
   "language": "python",
   "name": "research"
  },
  "language_info": {
   "codemirror_mode": {
    "name": "ipython",
    "version": 3
   },
   "file_extension": ".py",
   "mimetype": "text/x-python",
   "name": "python",
   "nbconvert_exporter": "python",
   "pygments_lexer": "ipython3",
   "version": "3.6.3"
  }
 },
 "nbformat": 4,
 "nbformat_minor": 2
}
