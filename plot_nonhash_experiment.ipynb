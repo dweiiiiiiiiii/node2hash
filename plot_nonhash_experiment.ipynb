{
 "cells": [
  {
   "cell_type": "code",
   "execution_count": 1,
   "metadata": {},
   "outputs": [],
   "source": [
    "%matplotlib inline \n",
    "import matplotlib.pyplot as plt\n",
    "import numpy as np\n",
    "import pandas as pd"
   ]
  },
  {
   "cell_type": "code",
   "execution_count": 6,
   "metadata": {},
   "outputs": [
    {
     "data": {
      "text/plain": [
       "array([1, 2, 3, 4, 5])"
      ]
     },
     "execution_count": 6,
     "metadata": {},
     "output_type": "execute_result"
    }
   ],
   "source": [
    "N = 5\n",
    "ind = np.arange(N)+1\n",
    "ind"
   ]
  },
  {
   "cell_type": "code",
   "execution_count": 11,
   "metadata": {},
   "outputs": [],
   "source": [
    "def plot_now(ax1, hash_prec, nonhash_prec, title_str, min_ylim, max_ylim):\n",
    "    N = 5\n",
    "    ind = np.arange(N)\n",
    "    width = 0.35       \n",
    "\n",
    "    ax1.bar(ind, hash_prec, width, label='Binary vector')\n",
    "    ax1.bar(ind + width, nonhash_prec, width, label='Continuous vector')\n",
    "\n",
    "    ax1.set_ylim(min_ylim, max_ylim)\n",
    "\n",
    "    ax1.set_ylabel('Prec@100')\n",
    "    ax1.title.set_text(title_str)\n",
    "\n",
    "    ax1.set_xlabel('Number of bits')\n",
    "    ax1.set_xticks(ind)\n",
    "    ax1.set_xticklabels(['8', '16', '32', '64', '128'])\n"
   ]
  },
  {
   "cell_type": "code",
   "execution_count": 12,
   "metadata": {},
   "outputs": [
    {
     "data": {
      "image/png": "[encoded data removed]",
      "text/plain": [
       "<Figure size 640x480 with 3 Axes>"
      ]
     },
     "metadata": {},
     "output_type": "display_data"
    }
   ],
   "source": [
    "\n",
    "\n",
    "fig = plt.figure(figsize=(8, 6), dpi=80)\n",
    "\n",
    "# Cora\n",
    "binary_df = pd.read_csv('binary_logs/binary.Experiment.cora.txt', sep='\\t', header=None, \n",
    "                         names=['dataset', 'bits', 'samples', 'Prec'])\n",
    "non_binary_df = pd.read_csv('nonbinary_logs/Nonbinary.Experiment.cora.txt', sep='\\t', header=None, \n",
    "                             names=['dataset', 'bits', 'samples', 'Prec'])\n",
    "\n",
    "ax1 = plt.subplot(221)\n",
    "plot_now(ax1, list(binary_df.Prec), list(non_binary_df.Prec), \"Cora\", 0.3, 0.6)\n",
    "ax1.legend(loc='lower right')\n",
    "\n",
    "# citeseer\n",
    "binary_df = pd.read_csv('binary_logs/binary.Experiment.citeseer.txt', sep='\\t', header=None, \n",
    "                         names=['dataset', 'bits', 'samples', 'Prec'])\n",
    "non_binary_df = pd.read_csv('nonbinary_logs/Nonbinary.Experiment.citeseer.txt', sep='\\t', header=None, \n",
    "                             names=['dataset', 'bits', 'samples', 'Prec'])\n",
    "\n",
    "ax1 = plt.subplot(222)\n",
    "plot_now(ax1, list(binary_df.Prec), list(non_binary_df.Prec), \"Citeseer\", 0.2, 0.6)\n",
    "\n",
    "# Pubmed\n",
    "binary_df = pd.read_csv('binary_logs/binary.Experiment.pubmed.txt', sep='\\t', header=None, \n",
    "                         names=['dataset', 'bits', 'samples', 'Prec'])\n",
    "non_binary_df = pd.read_csv('nonbinary_logs/Nonbinary.Experiment.pubmed.txt', sep='\\t', header=None, \n",
    "                             names=['dataset', 'bits', 'samples', 'Prec'])\n",
    "\n",
    "ax1 = plt.subplot(223)\n",
    "plot_now(ax1, list(binary_df.Prec), list(non_binary_df.Prec), \"Pubmed\", 0.6, 0.8)\n",
    "\n",
    "plt.tight_layout()\n"
   ]
  },
  {
   "cell_type": "code",
   "execution_count": 13,
   "metadata": {},
   "outputs": [],
   "source": [
    "fig.savefig(\"nonhash_experiment.pdf\", bbox_inches='tight')"
   ]
  },
  {
   "cell_type": "code",
   "execution_count": null,
   "metadata": {},
   "outputs": [],
   "source": [
    "N = 5\n",
    "hash_prec = list(binary_df.Prec)\n",
    "nonhash_prec = list(non_binary_df.Prec)\n",
    "\n",
    "ind = np.arange(N) \n",
    "width = 0.35       \n",
    "\n",
    "fig = plt.figure(figsize=(8, 6), dpi=80)\n",
    "\n",
    "ax1 = plt.subplot(221)\n",
    "\n",
    "ax1.bar(ind, hash_prec, width, label='Binary vector')\n",
    "ax1.bar(ind + width, nonhash_prec, width, label='Continuous vector')\n",
    "\n",
    "ax1.set_ylim(0.6, 0.8)\n",
    "\n",
    "ax1.set_ylabel('Prec@100')\n",
    "ax1.title.set_text('Pubmed')\n",
    "\n",
    "ax1.set_xlabel('Number of bits')\n",
    "ax1.set_xticks(ind + width / 2, ('8', '16', '32', '64', '128'))\n",
    "ax1.legend(loc='lower right')\n",
    "\n",
    "#plt.show()"
   ]
  },
  {
   "cell_type": "code",
   "execution_count": null,
   "metadata": {},
   "outputs": [],
   "source": [
    "def plot_now(title, ax, T, prec, ylim_min, ylim_max):\n",
    "    ax.plot(T, prec[0], 'o-', label='8 bits')\n",
    "    ax.plot(T, prec[1], 's-', label='16 bits')\n",
    "    ax.plot(T, prec[2], 'p-', label='32 bits')\n",
    "    ax.plot(T, prec[3], 'h-', label='64 bits')\n",
    "    ax.plot(T, prec[4], 'd-', label='128 bits')\n",
    "    ax.set_xticks(T)\n",
    "    ax.set_xlabel('Number of samples')\n",
    "    ax.set_ylim(ylim_min, ylim_max)\n",
    "    ax.set_ylabel('Prec@100')\n",
    "    ax.title.set_text(title)\n",
    "    ax.grid()"
   ]
  },
  {
   "cell_type": "code",
   "execution_count": null,
   "metadata": {},
   "outputs": [],
   "source": [
    "fig = plt.figure(figsize=(8, 6), dpi=80)\n",
    "\n",
    "# cora\n",
    "T = [1, 5, 10, 15, 20]\n",
    "prec = [[0.3946, 0.4498, 0.4740, 0.5205, 0.5484],\n",
    "        [0.4132, 0.4116, 0.4505, 0.5033, 0.5278],\n",
    "        [0.3500, 0.4185, 0.4734, 0.5051, 0.5286],\n",
    "        [0.4109, 0.4156, 0.4786, 0.5268, 0.5401],\n",
    "        [0.3685, 0.4248, 0.4641, 0.5232, 0.5370]]\n",
    "T = np.array(T)\n",
    "prec = np.array(prec).T\n",
    "\n",
    "ax1 = plt.subplot(221)\n",
    "plot_now(\"Cora\", ax1, T, prec, 0.1, 0.6)\n",
    "ax1.legend()\n",
    "\n",
    "# citeseer\n",
    "prec = [[0.3643, 00.4046, 0.4390, 0.5023, 0.5439],\n",
    "        [0.3443, 0.4239, 0.4415, 0.4867, 0.5636],\n",
    "        [0.3587, 0.3928, 0.4193, 0.5047, 0.5340],\n",
    "        [0.3702, 0.4082, 0.4293, 0.4817, 0.5582],\n",
    "        [0.3783, 0.4130, 0.4323, 0.4993, 0.5478]]\n",
    "prec = np.array(prec).T\n",
    "\n",
    "ax1 = plt.subplot(222)\n",
    "plot_now(\"Citeseer\", ax1, T, prec, 0.2, 0.7)\n",
    "\n",
    "# pubmed\n",
    "df = pd.read_csv('logs/T_experiment.pubmed.txt', sep='\\t', header=None, \n",
    "                 names=['dataset', 'bits', 'samples', 'Prec'])\n",
    "prec = [list(df[df.samples==s].Prec) for s in T]\n",
    "prec = np.array(prec).T\n",
    "\n",
    "ax1 = plt.subplot(223)\n",
    "plot_now(\"Pubmed\", ax1, T, prec, 0.6, 0.8)\n",
    "\n",
    "# dblp\n",
    "df = pd.read_csv('logs/T_experiment.dblp.txt', sep='\\t', header=None, \n",
    "                 names=['dataset', 'bits', 'samples', 'Prec'])\n",
    "prec = [list(df[df.samples==s].Prec) for s in T[:3]]\n",
    "prec = np.array(prec).T\n",
    "\n",
    "ax1 = plt.subplot(224)\n",
    "plot_now(\"Dblp\", ax1, T[:3], prec, 0.6, 0.8)\n",
    "\n",
    "plt.tight_layout()\n"
   ]
  },
  {
   "cell_type": "code",
   "execution_count": null,
   "metadata": {},
   "outputs": [],
   "source": [
    "fig.savefig(\"T_experiment.pdf\", bbox_inches='tight')"
   ]
  }
 ],
 "metadata": {
  "kernelspec": {
   "display_name": "Research2018",
   "language": "python",
   "name": "research"
  },
  "language_info": {
   "codemirror_mode": {
    "name": "ipython",
    "version": 3
   },
   "file_extension": ".py",
   "mimetype": "text/x-python",
   "name": "python",
   "nbconvert_exporter": "python",
   "pygments_lexer": "ipython3",
   "version": "3.6.3"
  }
 },
 "nbformat": 4,
 "nbformat_minor": 2
}
