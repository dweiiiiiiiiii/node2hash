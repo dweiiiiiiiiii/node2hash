{
 "cells": [
  {
   "cell_type": "markdown",
   "metadata": {},
   "source": [
    "# This script is used to remove any node that has no connection"
   ]
  },
  {
   "cell_type": "code",
   "execution_count": 11,
   "metadata": {},
   "outputs": [],
   "source": [
    "import os\n",
    "from scipy import sparse\n",
    "import numpy as np\n",
    "import pandas as pd\n",
    "from datasets import *\n",
    "from utils import *\n",
    "\n",
    "dataset_name = 'citeseer'\n",
    "data_dir = os.path.join('dataset/clean', dataset_name)"
   ]
  },
  {
   "cell_type": "code",
   "execution_count": 2,
   "metadata": {},
   "outputs": [],
   "source": [
    "df_file = os.path.join(data_dir, '{}.train.pkl'.format(dataset_name))\n",
    "train_df = pd.read_pickle(df_file)\n",
    "\n",
    "df_file = os.path.join(data_dir, '{}.test.pkl'.format(dataset_name))\n",
    "test_df = pd.read_pickle(df_file)"
   ]
  },
  {
   "cell_type": "code",
   "execution_count": 3,
   "metadata": {},
   "outputs": [
    {
     "name": "stdout",
     "output_type": "stream",
     "text": [
      "num train: 1983\n",
      "(after filtering) num train: 1983\n"
     ]
    }
   ],
   "source": [
    "def get_num_elements(mat):\n",
    "    return len(mat.nonzero()[1])\n",
    "\n",
    "print('num train: {}'.format(len(train_df)))\n",
    "train_df = train_df[train_df.neighbors.apply(get_num_elements) > 0]\n",
    "print('(after filtering) num train: {}'.format(len(train_df)))"
   ]
  },
  {
   "cell_type": "code",
   "execution_count": 40,
   "metadata": {},
   "outputs": [],
   "source": [
    "def is_not_self_references(mat):\n",
    "    if get_num_elements(mat.neighbors) == 1:\n",
    "        if mat.neighbors.nonzero()[1][0] == mat.name:\n",
    "            return False\n",
    "    return True"
   ]
  },
  {
   "cell_type": "code",
   "execution_count": null,
   "metadata": {},
   "outputs": [],
   "source": []
  },
  {
   "cell_type": "code",
   "execution_count": 42,
   "metadata": {},
   "outputs": [
    {
     "data": {
      "text/plain": [
       "1945"
      ]
     },
     "execution_count": 42,
     "metadata": {},
     "output_type": "execute_result"
    }
   ],
   "source": [
    "len(train_df[train_df.apply(axis=1, func=is_not_self_references)])"
   ]
  },
  {
   "cell_type": "code",
   "execution_count": 5,
   "metadata": {},
   "outputs": [],
   "source": [
    "\n",
    "train_set = TextDataset(dataset_name, data_dir, subset='train')\n",
    "train_loader = torch.utils.data.DataLoader(dataset=train_set, batch_size=1, shuffle=True)"
   ]
  },
  {
   "cell_type": "code",
   "execution_count": 7,
   "metadata": {},
   "outputs": [],
   "source": [
    "def get_neighbors(ids, df, max_nodes, batch_size, traversal_func):\n",
    "    cols = []\n",
    "    rows = []\n",
    "    for idx, node_id in enumerate(ids):\n",
    "        col = traversal_func(df, node_id.item(), max_nodes)\n",
    "        rows += [idx] * len(col)\n",
    "        cols += col\n",
    "    data = [1] * len(cols)\n",
    "    connections = sparse.csr_matrix((data, (rows, cols)), shape=(batch_size, len(df)))\n",
    "    return torch.from_numpy(connections.toarray()).type(torch.FloatTensor)"
   ]
  },
  {
   "cell_type": "code",
   "execution_count": 43,
   "metadata": {},
   "outputs": [
    {
     "name": "stdout",
     "output_type": "stream",
     "text": [
      "38\n"
     ]
    }
   ],
   "source": [
    "count = 0\n",
    "for (ids, xb, yb, nb) in train_loader:\n",
    "    num_nonzero = get_neighbors(ids, train_df, 20, xb.size(0), Random_walk).nonzero().shape[0]\n",
    "    if num_nonzero <= 0:\n",
    "        #print(ids)\n",
    "        count += 1\n",
    "print(count)"
   ]
  },
  {
   "cell_type": "code",
   "execution_count": 20,
   "metadata": {},
   "outputs": [
    {
     "data": {
      "text/plain": [
       "<1x1983 sparse matrix of type '<class 'numpy.int64'>'\n",
       "\twith 1 stored elements in Compressed Sparse Row format>"
      ]
     },
     "execution_count": 20,
     "metadata": {},
     "output_type": "execute_result"
    }
   ],
   "source": [
    "train_df.loc[1090].neighbors"
   ]
  }
 ],
 "metadata": {
  "kernelspec": {
   "display_name": "Research2018",
   "language": "python",
   "name": "research"
  },
  "language_info": {
   "codemirror_mode": {
    "name": "ipython",
    "version": 3
   },
   "file_extension": ".py",
   "mimetype": "text/x-python",
   "name": "python",
   "nbconvert_exporter": "python",
   "pygments_lexer": "ipython3",
   "version": "3.6.3"
  }
 },
 "nbformat": 4,
 "nbformat_minor": 2
}
